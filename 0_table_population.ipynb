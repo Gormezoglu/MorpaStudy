{
 "cells": [
  {
   "attachments": {},
   "cell_type": "markdown",
   "metadata": {},
   "source": [
    "This notebook helps to populate the table from each sheet of MorpaData excel \n",
    "\n",
    "\n",
    "\n",
    "\n",
    "\n",
    "---\n"
   ]
  },
  {
   "cell_type": "code",
   "execution_count": null,
   "metadata": {},
   "outputs": [],
   "source": [
    "%pip install --upgrade pip"
   ]
  },
  {
   "cell_type": "code",
   "execution_count": null,
   "metadata": {},
   "outputs": [],
   "source": [
    "#check if numpy is installed\n",
    "\n",
    "import subprocess\n",
    "\n",
    "try:\n",
    "    subprocess.check_call(['pip', 'show', 'numpy'])\n",
    "except subprocess.CalledProcessError:\n",
    "    # numpy is not installed\n",
    "    %pip install numpy\n",
    "else:\n",
    "    print('numpy is already installed.')"
   ]
  },
  {
   "cell_type": "code",
   "execution_count": null,
   "metadata": {},
   "outputs": [],
   "source": [
    "#check if openpyxl is installed\n",
    "\n",
    "import subprocess\n",
    "\n",
    "try:\n",
    "    subprocess.check_call(['pip', 'show', 'openpyxl'])\n",
    "except subprocess.CalledProcessError:\n",
    "    # openpyxl is not installed\n",
    "    %pip install openpyxl\n",
    "else:\n",
    "    print('openpyxl is already installed.')"
   ]
  },
  {
   "cell_type": "code",
   "execution_count": null,
   "metadata": {},
   "outputs": [],
   "source": [
    "#check if pandas is installed\n",
    "\n",
    "import subprocess\n",
    "\n",
    "try:\n",
    "    subprocess.check_call(['pip', 'show', 'pandas'])\n",
    "except subprocess.CalledProcessError:\n",
    "    # pandas is not installed\n",
    "    %pip install pandas\n",
    "else:\n",
    "    print('pandas is already installed.')\n"
   ]
  },
  {
   "cell_type": "code",
   "execution_count": null,
   "metadata": {},
   "outputs": [],
   "source": [
    "import pandas as pd\n",
    "import numpy as np\n",
    "import openpyxl\n",
    "\n",
    "# Set display options to show all rows and columns\n",
    "# pd.set_option('display.max_rows', None)\n",
    "pd.set_option('display.max_columns', None)"
   ]
  },
  {
   "cell_type": "code",
   "execution_count": null,
   "metadata": {},
   "outputs": [],
   "source": [
    "# input excel file path\n",
    "inputExcelFile =\"MorpaData.xlsx\"\n",
    "\n",
    "# creating or loading an excel workbook\n",
    "newWorkbook = openpyxl.load_workbook(inputExcelFile)\n",
    "\n",
    "# printing all the sheetnames in an excel file using sheetnames attribute\n",
    "print('The Sheet names of the given excel file: \\n')\n",
    "\n",
    "# Getting the sheetnames as a list using the sheetnames attribute\n",
    "sheetNames=newWorkbook.sheetnames\n",
    "\n",
    "# Traversing in the sheetNames list\n",
    "for name in sheetNames:\n",
    "   print(name)"
   ]
  },
  {
   "cell_type": "code",
   "execution_count": null,
   "metadata": {},
   "outputs": [],
   "source": [
    "# get the member data from excel\n",
    "\n",
    "member_df = pd.read_excel('MorpaData.xlsx',sheet_name='Üye Listesi')\n",
    "print(member_df.head(10),'\\n\\n')\n",
    "\n",
    "print(member_df.info())\n",
    "\n",
    "# get the unique number of members\n",
    "\n",
    "print(member_df['Üye'].nunique())"
   ]
  },
  {
   "cell_type": "code",
   "execution_count": null,
   "metadata": {},
   "outputs": [],
   "source": [
    "# get the Login logs data from excel\n",
    "\n",
    "login_df = pd.read_excel('MorpaData.xlsx',sheet_name='Giriş Logları')\n",
    "login_df['Giriş Zamanı'] = pd.to_datetime(login_df['Giriş Zamanı'], format='%d/%m/%Y %H:%M:%S')\n",
    "login_df['Çıkış Zamanı'] = pd.to_datetime(login_df['Çıkış Zamanı'], format='%d/%m/%Y %H:%M:%S')\n",
    "print(login_df.head(10),'\\n\\n')\n",
    "\n",
    "print(login_df.info(),'\\n\\n')\n",
    "\n",
    "\n",
    "# get the unique number of members on login data\n",
    "print(\"unique member count on login data: \",login_df['Üye'].nunique())"
   ]
  },
  {
   "cell_type": "code",
   "execution_count": null,
   "metadata": {},
   "outputs": [],
   "source": [
    "# get the lecturing logs data from excel\n",
    "\n",
    "lecturing_df = pd.read_excel('MorpaData.xlsx',sheet_name='Konu anlatımı')\n",
    "lecturing_df['Giriş Zamanı'] = pd.to_datetime(lecturing_df['Giriş Zamanı'], format='%d/%m/%Y %H:%M:%S')\n",
    "lecturing_df['Çıkış Zamanı'] = pd.to_datetime(lecturing_df['Çıkış Zamanı'], format='%d/%m/%Y %H:%M:%S')\n",
    "\n",
    "# calculate the duration of the lecturing\n",
    "\n",
    "lecturing_df['lec_Süre'] = (lecturing_df['Çıkış Zamanı'] - lecturing_df['Giriş Zamanı']).dt.total_seconds().astype(int)\n",
    "\n",
    "print(lecturing_df.head(10),'\\n\\n')\n",
    "\n",
    "print(lecturing_df.info(),'\\n\\n')\n",
    "\n",
    "\n",
    "# get the unique number of members on lecturing data\n",
    "print(\"Unique number of users on lecturing: \", lecturing_df['Üye'].nunique())"
   ]
  },
  {
   "cell_type": "code",
   "execution_count": null,
   "metadata": {},
   "outputs": [],
   "source": [
    "# get the studies data from excel\n",
    "\n",
    "studies_df = pd.read_excel('MorpaData.xlsx',sheet_name='çalışmalar')\n",
    "studies_df['Giriş Zamanı'] = pd.to_datetime(studies_df['Giriş Zamanı'], format='%d/%m/%Y %H:%M:%S')\n",
    "studies_df['Çıkış Zamanı'] = pd.to_datetime(studies_df['Çıkış Zamanı'], format='%d/%m/%Y %H:%M:%S')\n",
    "\n",
    "studies_df['stud_Süre'] = (studies_df['Çıkış Zamanı'] - studies_df['Giriş Zamanı']).dt.total_seconds().astype(int)\n",
    "\n",
    "print(studies_df.head(10),'\\n\\n')\n",
    "\n",
    "print(studies_df.info(),'\\n\\n')\n",
    "\n",
    "# get the unique number of members on studies data\n",
    "print(\"unique member count on studies data: \",studies_df['Üye'].nunique())"
   ]
  },
  {
   "cell_type": "code",
   "execution_count": null,
   "metadata": {},
   "outputs": [],
   "source": [
    "# get the exams data from excel\n",
    "\n",
    "exams_df = pd.read_excel('MorpaData.xlsx',sheet_name='Sınav')\n",
    "exams_df['Giriş Zamanı'] = exams_df['Giriş Zamanı'].apply(lambda x: x.strftime(\"%d/%m/%Y  %H:%M:%S\"))\n",
    "exams_df['Çıkış Zamanı'] = exams_df['Çıkış Zamanı'].apply(lambda x: x.strftime(\"%d/%m/%Y  %H:%M:%S\"))\n",
    "\n",
    "exams_df['Giriş Zamanı'] = pd.to_datetime(exams_df['Giriş Zamanı'], format='%d/%m/%Y %H:%M:%S')\n",
    "exams_df['Çıkış Zamanı'] = pd.to_datetime(exams_df['Çıkış Zamanı'], format='%d/%m/%Y %H:%M:%S')\n",
    "\n",
    "exams_df['Giriş Zamanı']\n",
    "\n",
    "print(exams_df.head(10),'\\n\\n')\n",
    "\n",
    "print(exams_df.info(),'\\n\\n')\n",
    "\n",
    "# get the unique number of members on exams data\n",
    "print(\"unique member count on exams data: \",exams_df['Üye'].nunique())\n",
    "\n",
    "\n",
    "# wrong answers are not deducted from the total score."
   ]
  },
  {
   "cell_type": "code",
   "execution_count": null,
   "metadata": {},
   "outputs": [],
   "source": [
    "# get the subject data from excel\n",
    "\n",
    "subject_df = pd.read_excel('MorpaData.xlsx',sheet_name='konu')\n",
    "subject_df.head(10)\n",
    "\n",
    "#sort according to aktif materyal sayısı\n",
    "\n",
    "subject_df.sort_values(by=['Aktif Materyal Sayısı'],ascending=False)\n"
   ]
  },
  {
   "cell_type": "code",
   "execution_count": null,
   "metadata": {},
   "outputs": [],
   "source": [
    "#left join the exam and subject dataframes on Konu column\n",
    "\n",
    "exam_subject_df = pd.merge(exams_df,subject_df,how='left',left_on='Konu',right_on='Konu')\n",
    "\n",
    "# change column names for further join operations. Sınav related columns are renamed with S_ prefix\n",
    "exam_subject_df.rename(\n",
    "    columns={\"Giriş Zamanı\": \"S_Giriş Zamanı\", \"Çıkış Zamanı\": \"S_Çıkış Zamanı\", \"Süre\":\"S_süre\"},\n",
    "    inplace=True,\n",
    ")\n"
   ]
  },
  {
   "cell_type": "code",
   "execution_count": null,
   "metadata": {},
   "outputs": [],
   "source": [
    "# drop non-numeric sınıf rows\n",
    "\n",
    "exam_subject_df = exam_subject_df[exam_subject_df['Sınıf'].notna()]\n",
    "\n",
    "exam_subject_df\n",
    "\n",
    "\n",
    "# check data type of exam subject dataframe\n",
    "\n",
    "exam_subject_df.info()"
   ]
  },
  {
   "cell_type": "code",
   "execution_count": null,
   "metadata": {},
   "outputs": [],
   "source": [
    "# change data type to int which are not int\n",
    "\n",
    "exam_subject_df['Sınıf'] = exam_subject_df['Sınıf'].astype('int64')\n",
    "exam_subject_df['Ders'] = exam_subject_df['Ders'].astype('int64')\n",
    "exam_subject_df['Aktif Materyal Sayısı'] = exam_subject_df['Aktif Materyal Sayısı'].astype('int64')\n",
    "exam_subject_df['Toplam Materyal Sayısı'] = exam_subject_df['Toplam Materyal Sayısı'].astype('int64')\n",
    "\n",
    "exam_subject_df.head(10)\n",
    "\n"
   ]
  },
  {
   "attachments": {},
   "cell_type": "markdown",
   "metadata": {},
   "source": [
    "Alttaki kodu anlamadım. Tekrar incele"
   ]
  },
  {
   "cell_type": "code",
   "execution_count": null,
   "metadata": {},
   "outputs": [],
   "source": [
    "# add cumulative lecture time to exam_subject dataframe for each member according to the subject prior to exam date s_Giriş Zamanı\n",
    "\n",
    "# calculate cumulative lecture time before the exam date for each member of each subject\n",
    "exam_subject_df['cum_lecture_time'] = 0\n",
    "for index, row in exam_subject_df.iterrows():\n",
    "    df = lecturing_df[lecturing_df['Üye'] == row['Üye']] #Filters the lecturing_df DataFrame to select rows where the 'Üye' column matches the current row's 'Üye' value in exam_subject_df\n",
    "    df = df[df['Konu'] == row['Konu']] #Further filters the df DataFrame to select rows where the 'Konu' column matches the current row's 'Konu' value in exam_subject_df\n",
    "    df = df[df['Giriş Zamanı'] < row['S_Giriş Zamanı']] #Further filters the df DataFrame to select rows where the 'Giriş Zamanı' column is less than the current row's 'S_Giriş Zamanı' value in exam_subject_df. This ensures that only lecture entries that occurred before the exam start time are considered.\n",
    "    df['lec_Süre'] = df['lec_Süre'].astype('int64')\n",
    "    exam_subject_df.at[index,'cum_lecture_time'] = df['lec_Süre'].sum()\n",
    "\n",
    "# calculate cumulative study time before the exam date for each member of each subject\n",
    "exam_subject_df['cum_study_time'] = 0\n",
    "for index, row in exam_subject_df.iterrows():\n",
    "    df = studies_df[studies_df['Üye'] == row['Üye']]\n",
    "    df = df[df['Konu'] == row['Konu']]\n",
    "    df = df[df['Giriş Zamanı'] < row['S_Giriş Zamanı']]\n",
    "    df['stud_Süre'] = df['stud_Süre'].astype('int64')\n",
    "    exam_subject_df.at[index,'cum_study_time'] = df['stud_Süre'].sum()\n",
    "\n",
    "exam_subject_df['total_study_time'] = exam_subject_df['cum_lecture_time'] + exam_subject_df['cum_study_time']\n",
    "        \n",
    "exam_subject_studies_df = exam_subject_df"
   ]
  },
  {
   "cell_type": "code",
   "execution_count": null,
   "metadata": {},
   "outputs": [],
   "source": [
    "# to be properly label, do necessary sorting operations on exam_subject_studies_df\n",
    "\n",
    "exam_subject_studies_df.sort_values(by=['Üye','Sınav','Konu'])\n"
   ]
  },
  {
   "cell_type": "code",
   "execution_count": null,
   "metadata": {},
   "outputs": [],
   "source": [
    "# to tag the members who attempt gaming the system, I crate a deep copy of exams_subject_studies df_gtsLabeled.\n",
    "\n",
    "df_gtsLabeled = exam_subject_studies_df.copy(deep=True)\n",
    "\n",
    "# create a new column for labeling and overlapping time\n",
    "\n",
    "df_gtsLabeled['Label'] = \"\"\n",
    "df_gtsLabeled['Overlap (secs.)'] = \"\"\n",
    "\n",
    "# update the index of df_gtsLabeled\n",
    "\n",
    "df_gtsLabeled.reset_index(drop=True, inplace=True)\n",
    "\n",
    "# then we write the conditions for labeling the data who \"Gaming the System\". 1 for gaming, 0 for not gaming.\n",
    "\n",
    "for i in range(1,len(df_gtsLabeled)):\n",
    "    if df_gtsLabeled['Üye'][i-1] == df_gtsLabeled['Üye'][i]:\n",
    "        if df_gtsLabeled['Sınav'][i-1] == df_gtsLabeled['Sınav'][i]:\n",
    "            if df_gtsLabeled['Konu'][i-1] == df_gtsLabeled['Konu'][i]:\n",
    "                if (df_gtsLabeled['S_Çıkış Zamanı'][i-1] > df_gtsLabeled['S_Giriş Zamanı'][i]) and (df_gtsLabeled['Puan'][i-1] < df_gtsLabeled['Puan'][i]) and (df_gtsLabeled['GirişLog'][i-1] == df_gtsLabeled['GirişLog'][i]):\n",
    "                    df_gtsLabeled['Label'][i] = 1\n",
    "                    df_gtsLabeled['Overlap (secs.)'][i] = (df_gtsLabeled['S_Giriş Zamanı'][i] - df_gtsLabeled['S_Çıkış Zamanı'][i-1]).total_seconds() * -1  # this is the overlapping time in seconds \n",
    "\n",
    "\n",
    "# name the table as df for the sake of simplicity\n",
    "df = df_gtsLabeled\n",
    "\n",
    "df"
   ]
  },
  {
   "cell_type": "code",
   "execution_count": null,
   "metadata": {},
   "outputs": [],
   "source": [
    "# fill with zero if Label column is not 1\n",
    "\n",
    "df.replace(\"\", 0, inplace=True)"
   ]
  },
  {
   "cell_type": "code",
   "execution_count": null,
   "metadata": {},
   "outputs": [],
   "source": [
    "df['Label'].value_counts()\n",
    "\n",
    "# we have 7878 rows data and 290 of them are labeled as 1. This means that 290 members attempted gaming the system."
   ]
  },
  {
   "cell_type": "code",
   "execution_count": null,
   "metadata": {},
   "outputs": [],
   "source": [
    "# export df to csv file\n",
    "\n",
    "df.to_csv('populated_df.csv', index=False)\n"
   ]
  }
 ],
 "metadata": {
  "language_info": {
   "name": "python"
  },
  "orig_nbformat": 4
 },
 "nbformat": 4,
 "nbformat_minor": 2
}
